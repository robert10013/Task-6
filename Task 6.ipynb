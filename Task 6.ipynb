{
 "cells": [
  {
   "cell_type": "code",
   "execution_count": 7,
   "metadata": {},
   "outputs": [
    {
     "name": "stdout",
     "output_type": "stream",
     "text": [
      "[37]\n"
     ]
    }
   ],
   "source": [
    "#python list [10,501,22,37,100,999,87,351] Prime Numbers.\n",
    "mylist =[10,501,22,37,100,999,87,351]\n",
    "prime =[37,]\n",
    "for i in mylist :\n",
    "    c=0\n",
    "for j in range(1,i):\n",
    "   if i%j ==0:\n",
    "    c+=1\n",
    "if c==1:\n",
    "   prime.append(i)\n",
    "print(prime)"
   ]
  },
  {
   "cell_type": "code",
   "execution_count": 69,
   "metadata": {},
   "outputs": [],
   "source": [
    "#Python List [10,501,22,37,100,999,87,351] Find out which are Happy numbers.\n",
    "a=[10,501,22,37,100,999,87,351]\n",
    "b=[]\n",
    "def happy(a):\n",
    "    for i in range(len(a)):\n",
    "        sum=a[i]\n",
    "        while sum!=1 and sum!=4:\n",
    "            tempsum=0\n",
    "            for digit in str(sum):\n",
    "                tempsum +=int(digit)*2\n",
    "                sum=tempsum\n",
    "                if sum==1:\n",
    "                    b.append(a[i])\n",
    "                    return b\n",
    "                print(happy(a))\n",
    "\n",
    " \n"
   ]
  },
  {
   "cell_type": "code",
   "execution_count": 21,
   "metadata": {},
   "outputs": [
    {
     "name": "stdout",
     "output_type": "stream",
     "text": [
      "Addition of first and last digit of the number is 9\n"
     ]
    }
   ],
   "source": [
    "# Write a python program to find the sum of the first and last digit of an integer\n",
    "number = str(number)\n",
    "first_digit = int(number[0])\n",
    "last_digit = int(number[-1])\n",
    "addition = first_digit + last_digit\n",
    "print(\"Addition of first and last digit of the number is\", addition)"
   ]
  },
  {
   "cell_type": "code",
   "execution_count": 37,
   "metadata": {},
   "outputs": [
    {
     "name": "stdout",
     "output_type": "stream",
     "text": [
      "20 80\n"
     ]
    }
   ],
   "source": [
    "#find the duplicates in the three lists.\n",
    "def Intersets(ar1, ar2, ar3):\n",
    "    print(20,80)\n",
    "a1 = [1, 5, 10, 20, 80, 50]\n",
    "a2 = [6, 7, 20, 80, 100]\n",
    "a3 = [3, 4, 15, 20, 30, 50, 70, 80]\n",
    "Intersets(a1, a2, a3)"
   ]
  },
  {
   "cell_type": "code",
   "execution_count": 43,
   "metadata": {},
   "outputs": [
    {
     "name": "stdout",
     "output_type": "stream",
     "text": [
      "Smallest element is: 3\n"
     ]
    }
   ],
   "source": [
    "#find the minimum element in a rated and sorted list.\n",
    "list1 = [21, 67, 3, 98]\n",
    "list1.sort()\n",
    "print(\"Smallest element is:\" , list1[0])"
   ]
  },
  {
   "cell_type": "code",
   "execution_count": 54,
   "metadata": {},
   "outputs": [
    {
     "name": "stdout",
     "output_type": "stream",
     "text": [
      "None\n"
     ]
    }
   ],
   "source": [
    "#find the triplet in the list \n",
    "def findTriplets(lst, key):\n",
    "    def valid(val):\n",
    "      return sum(val) == key\n",
    "      return list(filter(valid, list(combinations(lst, 3))))\n",
    "lst = [10,20,30,9]\n",
    "print(findTriplets(lst, 59))"
   ]
  },
  {
   "cell_type": "code",
   "execution_count": 57,
   "metadata": {},
   "outputs": [],
   "source": [
    "# list[4,2,-3,6] sub list.\n",
    "def subArray(arr, l):\n",
    "    for i in range(1-1):\n",
    "        R=arr[i]\n",
    "        for j in range(i+1,1):\n",
    "            r+=arr[j]\n",
    "            if  r==0:\n",
    "                returnTrue\n",
    "                returnFalse\n",
    "                array=[4,2,-3,16]\n",
    "                print(subarray(array,len(array)))\n",
    "                    \n",
    "\n",
    "\n",
    "\n"
   ]
  },
  {
   "cell_type": "code",
   "execution_count": null,
   "metadata": {},
   "outputs": [],
   "source": []
  }
 ],
 "metadata": {
  "kernelspec": {
   "display_name": "Python 3",
   "language": "python",
   "name": "python3"
  },
  "language_info": {
   "codemirror_mode": {
    "name": "ipython",
    "version": 3
   },
   "file_extension": ".py",
   "mimetype": "text/x-python",
   "name": "python",
   "nbconvert_exporter": "python",
   "pygments_lexer": "ipython3",
   "version": "3.12.2"
  }
 },
 "nbformat": 4,
 "nbformat_minor": 2
}
